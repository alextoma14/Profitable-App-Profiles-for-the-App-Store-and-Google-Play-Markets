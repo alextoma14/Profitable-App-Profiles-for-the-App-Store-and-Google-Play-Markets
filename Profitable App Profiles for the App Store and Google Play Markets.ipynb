{
 "cells": [
  {
   "cell_type": "markdown",
   "metadata": {},
   "source": [
    "# Analyzing Mobile App Data\n",
    "\n",
    "We are data analysts for a company that builds Android and IOS mobile apps. The apps are available o Google Play and App Store. The apps are free to download  - main revenue is in in-app ads. \n",
    "\n",
    "\n",
    "Goal - analyze data t help our developers understand what type of apps are likely to attract more users"
   ]
  },
  {
   "cell_type": "markdown",
   "metadata": {},
   "source": [
    "2/14 \n"
   ]
  },
  {
   "cell_type": "code",
   "execution_count": 197,
   "metadata": {},
   "outputs": [],
   "source": [
    "import pandas as pd \n",
    "from csv import reader"
   ]
  },
  {
   "cell_type": "code",
   "execution_count": 198,
   "metadata": {},
   "outputs": [],
   "source": [
    "open_data = open('AppleStore.csv', encoding='utf8')\n",
    "reader_ios = reader(open_data)\n",
    "ios = list(reader_ios)\n",
    "ios_headers = ios[0]\n"
   ]
  },
  {
   "cell_type": "code",
   "execution_count": 199,
   "metadata": {},
   "outputs": [],
   "source": [
    "open_data2 = open('googleplaystore.csv', encoding='utf8')\n",
    "reader_android = reader(open_data2)\n",
    "android = list(reader_android)\n",
    "android_headers = android[0]\n",
    "\n"
   ]
  },
  {
   "cell_type": "code",
   "execution_count": 200,
   "metadata": {},
   "outputs": [],
   "source": [
    "def explore_data(dataset, start, end, rows_and_columns=False):\n",
    "    dataset_slice = dataset[start:end]    \n",
    "    for row in dataset_slice:\n",
    "        print(row)\n",
    "        print('\\n') # adds a new (empty) line after each row\n",
    "\n",
    "    if rows_and_columns:\n",
    "        print('Number of rows:', len(dataset))\n",
    "        print('Number of columns:', len(dataset[0]))"
   ]
  },
  {
   "cell_type": "code",
   "execution_count": 201,
   "metadata": {
    "scrolled": true
   },
   "outputs": [
    {
     "name": "stdout",
     "output_type": "stream",
     "text": [
      "['id', 'track_name', 'size_bytes', 'currency', 'price', 'rating_count_tot', 'rating_count_ver', 'user_rating', 'user_rating_ver', 'ver', 'cont_rating', 'prime_genre', 'sup_devices.num', 'ipadSc_urls.num', 'lang.num', 'vpp_lic']\n",
      "\n",
      "\n",
      "['284882215', 'Facebook', '389879808', 'USD', '0.0', '2974676', '212', '3.5', '3.5', '95.0', '4+', 'Social Networking', '37', '1', '29', '1']\n",
      "\n",
      "\n",
      "['389801252', 'Instagram', '113954816', 'USD', '0.0', '2161558', '1289', '4.5', '4.0', '10.23', '12+', 'Photo & Video', '37', '0', '29', '1']\n",
      "\n",
      "\n",
      "Number of rows: 7198\n",
      "Number of columns: 16\n"
     ]
    }
   ],
   "source": [
    "explore_data(ios, 0,3, rows_and_columns=True)"
   ]
  },
  {
   "cell_type": "code",
   "execution_count": 202,
   "metadata": {},
   "outputs": [
    {
     "name": "stdout",
     "output_type": "stream",
     "text": [
      "['App', 'Category', 'Rating', 'Reviews', 'Size', 'Installs', 'Type', 'Price', 'Content Rating', 'Genres', 'Last Updated', 'Current Ver', 'Android Ver']\n",
      "\n",
      "\n",
      "['Photo Editor & Candy Camera & Grid & ScrapBook', 'ART_AND_DESIGN', '4.1', '159', '19M', '10,000+', 'Free', '0', 'Everyone', 'Art & Design', 'January 7, 2018', '1.0.0', '4.0.3 and up']\n",
      "\n",
      "\n",
      "['Coloring book moana', 'ART_AND_DESIGN', '3.9', '967', '14M', '500,000+', 'Free', '0', 'Everyone', 'Art & Design;Pretend Play', 'January 15, 2018', '2.0.0', '4.0.3 and up']\n",
      "\n",
      "\n",
      "Number of rows: 10842\n",
      "Number of columns: 13\n"
     ]
    }
   ],
   "source": [
    "explore_data(android, 0, 3, rows_and_columns=True)"
   ]
  },
  {
   "cell_type": "markdown",
   "metadata": {},
   "source": [
    "3 / 14 Deleting wrong data  "
   ]
  },
  {
   "cell_type": "code",
   "execution_count": 203,
   "metadata": {},
   "outputs": [
    {
     "name": "stdout",
     "output_type": "stream",
     "text": [
      "13\n",
      "16\n"
     ]
    }
   ],
   "source": [
    "header_length_android = len(android_headers)\n",
    "header_length_ios = len(ios_headers )\n",
    "print(header_length_android)\n",
    "print(header_length_ios)"
   ]
  },
  {
   "cell_type": "code",
   "execution_count": 204,
   "metadata": {},
   "outputs": [
    {
     "name": "stdout",
     "output_type": "stream",
     "text": [
      "Found at index: 10473\n"
     ]
    }
   ],
   "source": [
    "for i in range(1, len(android)):\n",
    "    if len(android[i]) != header_length_android:\n",
    "        print(\"Found at index:\",i) "
   ]
  },
  {
   "cell_type": "code",
   "execution_count": 205,
   "metadata": {},
   "outputs": [],
   "source": [
    "for i in range(1, len(ios)):\n",
    "    if len(ios[i]) != header_length_ios:\n",
    "        print(\"Found at index:\",i) "
   ]
  },
  {
   "cell_type": "code",
   "execution_count": 206,
   "metadata": {},
   "outputs": [],
   "source": [
    "del android[10473]"
   ]
  },
  {
   "cell_type": "markdown",
   "metadata": {},
   "source": [
    "4 / 14 Removing Duplicate Entries: Part One\n",
    "\n",
    "\n",
    " \n",
    "The android dataset contains duplicate entries.\n",
    "\n",
    "We pick the entries with the most amount of reviews because this reflects the most recent data. "
   ]
  },
  {
   "cell_type": "code",
   "execution_count": 207,
   "metadata": {},
   "outputs": [],
   "source": [
    "duplicate_apps_android =[]\n",
    "unique_apps_android = []\n",
    "\n",
    "for name in android: \n",
    "    if name in unique_apps_android:\n",
    "        duplicate_apps_android.append(name)\n",
    "    else: \n",
    "        unique_apps_android.append(name)"
   ]
  },
  {
   "cell_type": "code",
   "execution_count": 208,
   "metadata": {},
   "outputs": [],
   "source": [
    "duplicate_apps_ios =[]\n",
    "unique_apps_ios = []\n",
    "\n",
    "for name in ios: \n",
    "    if name in unique_apps_ios:\n",
    "        duplicate_apps_ios.append(name)\n",
    "    else: \n",
    "        unique_apps_ios.append(name)"
   ]
  },
  {
   "cell_type": "code",
   "execution_count": 209,
   "metadata": {},
   "outputs": [
    {
     "name": "stdout",
     "output_type": "stream",
     "text": [
      "Quick PDF Scanner + OCR FREE\n",
      "Box\n",
      "Google My Business\n",
      "ZOOM Cloud Meetings\n",
      "join.me - Simple Meetings\n",
      "Box\n",
      "Zenefits\n",
      "Google Ads\n",
      "Google My Business\n",
      "Slack\n",
      "FreshBooks Classic\n",
      "Insightly CRM\n",
      "QuickBooks Accounting: Invoicing & Expenses\n",
      "HipChat - Chat Built for Teams\n",
      "Xero Accounting Software\n",
      "MailChimp - Email, Marketing Automation\n",
      "Crew - Free Messaging and Scheduling\n",
      "Asana: organize team projects\n",
      "Google Analytics\n",
      "AdWords Express\n",
      "Accounting App - Zoho Books\n",
      "Invoice & Time Tracking - Zoho\n",
      "join.me - Simple Meetings\n",
      "Invoice 2go — Professional Invoices and Estimates\n",
      "SignEasy | Sign and Fill PDF and other Documents\n",
      "Genius Scan - PDF Scanner\n",
      "Tiny Scanner - PDF Scanner App\n",
      "Fast Scanner : Free PDF Scan\n",
      "Mobile Doc Scanner (MDScan) Lite\n",
      "TurboScan: scan documents and receipts in PDF\n",
      "Tiny Scanner Pro: PDF Doc Scan\n",
      "Docs To Go™ Free Office Suite\n",
      "QuickBooks Accounting: Invoicing & Expenses\n",
      "WhatsApp Messenger\n",
      "Google Voice\n",
      "Android Messages\n",
      "Puffin Web Browser\n",
      "Calls & Text by Mo+\n",
      "Viber Messenger\n",
      "imo free video calls and chat\n",
      "free video calls and chat\n",
      "Skype - free IM & video calls\n",
      "WeChat\n",
      "Glide - Video Chat Messenger\n",
      "Talkray - Free Calls & Texts\n",
      "LINE: Free Calls & Messages\n",
      "KakaoTalk: Free Calls & Text\n",
      "OkCupid Dating\n",
      "CMB Free Dating App\n",
      "Hily: Dating, Chat, Match, Meet & Hook up\n",
      "Hinge: Dating & Relationships\n",
      "BBW Dating & Plus Size Chat\n",
      "Casual Dating & Adult Singles - Joyride\n",
      "EliteSingles – Dating for Single Professionals\n",
      "Clover Dating App\n",
      "Moco - Chat, Meet People\n",
      "Hot or Not - Find someone right now\n",
      "Just She - Top Lesbian Dating\n",
      "Once - Quality Matches Every day\n",
      "Sudy – Meet Elite & Rich Single\n",
      "muzmatch: Muslim & Arab Singles, Marriage & Dating\n",
      "Chispa, the Dating App for Latino, Latina Singles\n",
      "Blendr - Chat, Flirt & Meet\n",
      "Find Real Love — YouLove Premium Dating\n",
      "Gay Sugar Daddy Dating & Hookup – Sudy Gay\n",
      "Adult Dirty Emojis\n",
      "O-Star\n",
      "Random Video Chat\n",
      "Black People Meet Singles Date\n",
      "Howlr\n",
      "Cardi B Live Stream Video Chat - Prank\n",
      "Chat Kids - Chat Room For Kids\n",
      "Transenger – Ts Dating and Chat for Free\n",
      "BBW Dating & Curvy Singles Chat- LargeFriends\n",
      "MouseMingle\n",
      "Live Talk - Free Text and Video Chat\n",
      "Adult Dirty Emojis\n",
      "Free Cam Girls - Live Webcam\n",
      "Random Video Chat App With Strangers\n",
      "Live Girls Talk - Free Video Chat\n",
      "Girls Live Chat - Free Text & Video Chat\n",
      "Free Dating App - Meet Local Singles - Flirt Chat\n",
      "iPair-Meet, Chat, Dating\n",
      "Free Dating Hook Up Messenger\n",
      "Khan Academy\n",
      "TED\n",
      "Lumosity: #1 Brain Games & Cognitive Training App\n",
      "Udemy - Online Courses\n",
      "Khan Academy\n",
      "TED\n",
      "Quizlet: Learn Languages & Vocab with Flashcards\n",
      "Coursera: Online courses\n",
      "Udemy - Online Courses\n",
      "Udacity - Lifelong Learning\n",
      "Lynda - Online Training Videos\n",
      "Brilliant\n",
      "Duolingo: Learn Languages Free\n",
      "Learn languages, grammar & vocabulary with Memrise\n",
      "Quizlet: Learn Languages & Vocab with Flashcards\n",
      "Duolingo: Learn Languages Free\n",
      "Learn 50 languages\n",
      "Mango Languages: Lovable Language Courses\n",
      "Rosetta Stone: Learn to Speak & Read New Languages\n",
      "Babbel – Learn Languages\n",
      "My Class Schedule: Timetable\n",
      "Socratic - Math Answers & Homework Help\n",
      "Google Classroom\n",
      "Quizlet: Learn Languages & Vocab with Flashcards\n",
      "busuu: Learn Languages - Spanish, English & More\n",
      "Rosetta Stone: Learn to Speak & Read New Languages\n",
      "Movies by Flixster, with Rotten Tomatoes\n",
      "Netflix\n",
      "IMDb Movies & TV\n",
      "STARZ\n",
      "Crackle - Free TV & Movies\n",
      "CBS - Full Episodes & Live TV\n",
      "Nick\n",
      "FOX NOW - On Demand & Live TV\n",
      "The CW\n",
      "HISTORY: Watch TV Show Full Episodes & Specials\n",
      "HBO NOW: Stream TV & Movies\n",
      "A&E - Watch Full Episodes of TV Shows\n",
      "VH1\n",
      "BET NOW - Watch Shows\n",
      "Tubi TV - Free Movies & TV\n",
      "Crackle - Free TV & Movies\n",
      "Crunchyroll - Everything Anime\n",
      "Nick\n",
      "STARZ\n",
      "Hulu: Stream TV, Movies & more\n",
      "Food Network\n",
      "FOX NOW - On Demand & Live TV\n",
      "Movies by Flixster, with Rotten Tomatoes\n",
      "HISTORY: Watch TV Show Full Episodes & Specials\n",
      "The CW\n",
      "HBO NOW: Stream TV & Movies\n",
      "A&E - Watch Full Episodes of TV Shows\n",
      "VH1\n",
      "SHOWTIME\n",
      "MTV\n",
      "Lifetime - Watch Full Episodes & Original Movies\n",
      "Comedy Central\n",
      "BET NOW - Watch Shows\n",
      "FOX\n",
      "Telemundo Now\n",
      "Viki: Asian TV Dramas & Movies\n",
      "Nick\n",
      "Fandango Movies - Times + Tickets\n",
      "Google Pay\n",
      "Wells Fargo Daily Change\n",
      "Robinhood - Investing, No Fees\n",
      "Digit Save Money Automatically\n",
      "Mint: Budget, Bills, Finance\n",
      "Simple - Better Banking\n",
      "Grubhub: Food Delivery\n",
      "Postmates Food Delivery: Order Eats & Alcohol\n",
      "Domino's Pizza USA\n",
      "8fit Workouts & Meal Planner\n",
      "Daily Yoga - Yoga Fitness Plans\n",
      "Pocket Yoga\n",
      "Weight Loss Running by Verv\n",
      "Nike+ Run Club\n",
      "Seven - 7 Minute Workout Training Challenge\n",
      "Workout Trainer: fitness coach\n",
      "Run with Map My Run\n",
      "Nike Training Club - Workouts & Fitness Plans\n",
      "Fitbit Coach\n",
      "Runkeeper - GPS Track Run Walk\n",
      "Calorie Counter - MyFitnessPal\n",
      "Lose It! - Calorie Counter\n",
      "Calorie Counter - MyNetDiary\n",
      "10 Best Foods for You\n",
      "MyPlate Calorie Tracker\n",
      "Weight Loss Tracker - RecStyle\n",
      "Calorie Counter - Macros\n",
      "My Diet Diary Calorie Counter\n",
      "Lark - 24/7 Health Coach\n",
      "Weight Watchers Mobile\n",
      "Calorie Counter & Diet Tracker\n",
      "MealLogger-Photo Food Journal\n",
      "Health and Nutrition Guide\n",
      "Food Calorie Calculator\n",
      "Calorie Counter - MyFitnessPal\n",
      "Lose It! - Calorie Counter\n",
      "Relax Meditation: Sleep with Sleep Sounds\n",
      "Meditation Music - Relax, Yoga\n",
      "21-Day Meditation Experience\n",
      "Fabulous: Motivate Me! Meditate, Relax, Sleep\n",
      "Relax Melodies: Sleep Sounds\n",
      "Simple Habit Meditation\n",
      "Headspace: Meditation & Mindfulness\n",
      "Daily Yoga - Yoga Fitness Plans\n",
      "Mortgage by Zillow: Calculator & Rates\n",
      "Redfin Real Estate\n",
      "Apartment List: Housing, Apt, and Property Rentals\n",
      "Realtor.com Real Estate: Homes for Sale and Rent\n",
      "Trulia Real Estate & Rentals\n",
      "Zillow: Find Houses for Sale & Apartments for Rent\n",
      "Apartments.com Rental Search\n",
      "Vaniday - Beauty Booking App\n",
      "StyleSeat\n",
      "Fashion in Vogue\n",
      "Wheretoget: Shop in style\n",
      "My Dressing - Fashion closet\n",
      "Chictopia\n",
      "Scarf Fashion Designer\n",
      "Fashion in Vogue\n",
      "Clash of Clans\n",
      "Fishdom\n",
      "Galaxy Attack: Alien Shooter\n",
      "Candy Crush Saga\n",
      "Sniper 3D Gun Shooter: Free Shooting Games - FPS\n",
      "Temple Run 2\n",
      "Kick the Buddy\n",
      "Block Craft 3D: Building Simulator Games For Free\n",
      "Wordscapes\n",
      "Honkai Impact 3rd\n",
      "Subway Surfers\n",
      "slither.io\n",
      "Bowmasters\n",
      "Sniper 3D Gun Shooter: Free Shooting Games - FPS\n",
      "DRAGON BALL LEGENDS\n",
      "Garena Free Fire\n",
      "Candy Crush Saga\n",
      "Plants vs. Zombies FREE\n",
      "Block Puzzle\n",
      "Flow Free\n",
      "Jewels Star: OZ adventure\n",
      "Magic Tiles 3\n",
      "Score! Hero\n",
      "Super ABC! Learning games for kids! Preschool apps\n",
      "PJ Masks: Moonlight Heroes\n",
      "Minion Rush: Despicable Me Official Game\n",
      "DC Super Hero Girls™\n",
      "Strawberry Shortcake BerryRush\n",
      "Disney Magic Kingdoms: Build Your Own Magical Park\n",
      "Papumba Academy - Fun Learning For Kids\n",
      "Kids Balloon Pop Game Free 🎈\n",
      "Sounds for Toddlers FREE\n",
      "Elmo Calls by Sesame Street\n",
      "Sago Mini Friends\n",
      "Papumba Academy - Fun Learning For Kids\n",
      "Tee and Mo Bath Time Free\n",
      "Bita and the Animals - Pelos Ares\n",
      "TO-FU Oh!SUSHI\n",
      "DreamWorks Friends\n",
      "Avokiddo Emotions\n",
      "Nighty Night Circus\n",
      "Sago Mini Babies\n",
      "Dr. Panda & Toto's Treehouse\n",
      "Baby Panda Care\n",
      "Shopkins World!\n",
      "DisneyNOW – TV Shows & Games\n",
      "Equestria Girls\n",
      "Thomas & Friends: Race On!\n",
      "Inside Out Thought Bubbles\n",
      "Sago Mini Friends\n",
      "School of Dragons\n",
      "Vargo Anesthesia Mega App\n",
      "Monash Uni Low FODMAP Diet\n",
      "mySugr: the blood sugar tracker made just for you\n",
      "Human Anatomy Atlas 2018: Complete 3D Human Body\n",
      "ASCCP Mobile\n",
      "Paramedic Protocol Provider\n",
      "2017 EMRA Antibiotic Guide\n",
      "Essential Anatomy 3\n",
      "EMT PASS\n",
      "Block Buddy\n",
      "EMT Review Plus\n",
      "Journal Club: Medicine\n",
      "Pedi STAT\n",
      "AnatomyMapp\n",
      "Diabetes & Diet Tracker\n",
      "A Manual of Acupuncture\n",
      "PTA Content Master\n",
      "Muscle Premium - Human Anatomy, Kinesiology, Bones\n",
      "Cardiac diagnosis (heart rate, arrhythmia)\n",
      "Medical ID - In Case of Emergency (ICE)\n",
      "IBM Micromedex Drug Info\n",
      "Advanced Comprehension Therapy\n",
      "Hospitalist Handbook\n",
      "Teladoc Member\n",
      "Ada - Your Health Guide\n",
      "MoodSpace\n",
      "Super Hearing Super Ear Amplifier\n",
      "Penn State Health OnDemand\n",
      "ScriptSave WellRx Rx Discounts\n",
      "Free Blood Pressure\n",
      "All Mental disorders\n",
      "Nurse Grid\n",
      "JH Blood Pressure Monitor\n",
      "RT 516 VET\n",
      "Anthem Anywhere\n",
      "Sway Medical\n",
      "fred's Pharmacy\n",
      "Breastfeeding Tracker Baby Log\n",
      "Banfield Pet Health Tracker\n",
      "1800 Contacts - Lens Store\n",
      "TextNow - free text + calls\n",
      "Instagram\n",
      "Pinterest\n",
      "Tango - Live Video Broadcast\n",
      "Badoo - Free Chat & Dating App\n",
      "MeetMe: Chat & Meet New People\n",
      "Meetup\n",
      "Text Free: WiFi Calling App\n",
      "MeetMe: Chat & Meet New People\n",
      "LOVOO\n",
      "Badoo - Free Chat & Dating App\n",
      "Jaumo Dating, Flirt & Live Video\n",
      "SayHi Chat, Meet New People\n",
      "Couple - Relationship App\n",
      "Meetup\n",
      "SnipSnap Coupon App\n",
      "Extreme Coupon Finder\n",
      "Checkout 51: Grocery coupons\n",
      "The Coupons App\n",
      "RetailMeNot - Coupons, Deals & Discount Shopping\n",
      "Groupon - Shop Deals, Discounts & Coupons\n",
      "Extreme Coupon Finder\n",
      "eBay: Buy & Sell this Summer - Discover Deals Now!\n",
      "Checkout 51: Grocery coupons\n",
      "Gyft - Mobile Gift Card Wallet\n",
      "Shopkick: Free Gift Cards, Shop Rewards & Deals\n",
      "The Coupons App\n",
      "Shopular: Coupons, Weekly Ads & Shopping Deals\n",
      "Wish - Shopping Made Fun\n",
      "Carousell: Snap-Sell, Chat-Buy\n",
      "Walmart\n",
      "Ibotta: Cash Back Savings, Rewards & Coupons App\n",
      "LivingSocial - Local Deals\n",
      "RetailMeNot - Coupons, Deals & Discount Shopping\n",
      "Poshmark - Buy & Sell Fashion\n",
      "Target - now with Cartwheel\n",
      "ZALORA Fashion Shopping\n",
      "eBay: Buy & Sell this Summer - Discover Deals Now!\n",
      "Fancy\n",
      "Modcloth – Unique Indie Women's Fashion & Style\n",
      "Gyft - Mobile Gift Card Wallet\n",
      "JackThreads: Men's Shopping\n",
      "LivingSocial - Local Deals\n",
      "Zappos – Shoe shopping made simple\n",
      "Wanelo Shopping\n",
      "Etsy: Handmade & Vintage Goods\n",
      "Groupon - Shop Deals, Discounts & Coupons\n",
      "eBay: Buy & Sell this Summer - Discover Deals Now!\n",
      "JackThreads: Men's Shopping\n",
      "Slickdeals: Coupons & Shopping\n",
      "Fancy\n",
      "Shutterfly: Free Prints, Photo Books, Cards, Gifts\n",
      "YouCam Perfect - Selfie Photo Editor\n",
      "Muzy - Share photos & collages\n",
      "QuickPic - Photo Gallery with Google Drive Support\n",
      "Flickr\n",
      "Shutterfly: Free Prints, Photo Books, Cards, Gifts\n",
      "Open Camera\n",
      "Camera for Android\n",
      "Cymera Camera- Photo Editor, Filter,Collage,Layout\n",
      "Facetune - For Free\n",
      "Camera for Android\n",
      "Facetune - For Free\n",
      "BeautyPlus - Easy Photo Editor & Selfie Camera\n",
      "CBS Sports App - Scores, News, Stats & Watch Live\n",
      "ESPN\n",
      "NFL\n",
      "Bleacher Report: sports news, scores, & highlights\n",
      "ESPN Fantasy Sports\n",
      "theScore: Live Sports Scores, News, Stats & Videos\n",
      "CBS Sports App - Scores, News, Stats & Watch Live\n",
      "ESPN\n",
      "MLB At Bat\n",
      "CBS Sports App - Scores, News, Stats & Watch Live\n",
      "WatchESPN\n",
      "Hole19: Golf GPS App, Rangefinder & Scorecard\n",
      "CBS Sports Fantasy\n",
      "ESPN\n",
      "Bleacher Report: sports news, scores, & highlights\n",
      "theScore: Live Sports Scores, News, Stats & Videos\n",
      "CBS Sports App - Scores, News, Stats & Watch Live\n",
      "Yahoo Sports - scores, stats, news, & highlights\n",
      "WatchESPN\n",
      "Yahoo Fantasy Sports - #1 Rated Fantasy App\n",
      "ESPN\n",
      "US Open Tennis Championships 2018\n",
      "Bleacher Report: sports news, scores, & highlights\n",
      "MLB At Bat\n",
      "theScore: Live Sports Scores, News, Stats & Videos\n",
      "Golfshot: Golf GPS + Tee Times\n",
      "CBS Sports App - Scores, News, Stats & Watch Live\n",
      "Yahoo Sports - scores, stats, news, & highlights\n",
      "WatchESPN\n",
      "FOX Sports: Live Streaming, Scores & News\n",
      "Fantasy Football\n",
      "PGA TOUR\n",
      "UFC\n",
      "trivago: Hotels & Travel\n",
      "TripAdvisor Hotels Flights Restaurants Attractions\n",
      "Priceline Hotel Deals, Rental Cars & Flights\n",
      "United Airlines\n",
      "Expedia Hotels, Flights & Car Rental Travel Deals\n",
      "Southwest Airlines\n",
      "Fly Delta\n",
      "KAYAK Flights, Hotels & Cars\n",
      "American Airlines\n",
      "Skyscanner\n",
      "Priceline Hotel Deals, Rental Cars & Flights\n",
      "trivago: Hotels & Travel\n",
      "Expedia Hotels, Flights & Car Rental Travel Deals\n",
      "KAYAK Flights, Hotels & Cars\n",
      "Orbitz - Hotels, Flights & Package Deals\n",
      "Skyscanner\n",
      "Booking.com Travel Deals\n",
      "Hostelworld: Hostels & Cheap Hotels Travel App\n",
      "TripAdvisor Hotels Flights Restaurants Attractions\n",
      "Skyscanner\n",
      "HotelTonight: Book amazing deals at great hotels\n",
      "ZEDGE™ Ringtones & Wallpapers\n",
      "ZEDGE™ Ringtones & Wallpapers\n",
      "Nova Launcher\n",
      "Google Keep\n",
      "Evernote – Organizer, Planner for Notes & Memos\n",
      "Google PDF Viewer\n",
      "Google Keep\n",
      "Todoist: To-do lists for task management & errands\n",
      "Planner Pro-Personal Organizer\n",
      "Google Drive\n",
      "Google News\n",
      "Flipboard: News For Our Time\n",
      "BBC News\n",
      "Fox News – Breaking News, Live Video & News Alerts\n",
      "USA TODAY\n",
      "CNN Breaking US & World News\n",
      "Twitter\n",
      "BBC News\n",
      "NPR News\n",
      "Fox News – Breaking News, Live Video & News Alerts\n",
      "Haystack TV: Local & World News - Free\n",
      "ABC News - US & World News\n",
      "USA TODAY\n",
      "NBC News\n",
      "The Wall Street Journal: Business & Market News\n",
      "CNN Breaking US & World News\n",
      "NYTimes - Latest News\n",
      "Newsroom: News Worth Sharing\n",
      "BuzzFeed: News, Tasty, Quizzes\n",
      "EMT Tutor NREMT-B Study Guide\n",
      "UC Browser - Fast Download Private & Secure\n",
      "Google Duo - High Quality Video Calls\n",
      "Ebook Reader\n",
      "Gmail\n",
      "Messenger – Text and Video Chat for Free\n",
      "imo beta free calls and text\n",
      "imo free video calls and chat\n",
      "Skype - free IM & video calls\n",
      "O-Star\n",
      "Maricopa AH\n",
      "Houzz Interior Design Ideas\n",
      "Anthem BC Anywhere\n",
      "PMHNP-BC Pocket Prep\n",
      "iBP Blood Pressure\n",
      "Blood Pressure\n",
      "Blood Pressure(BP) Diary\n",
      "BP Journal - Blood Pressure Diary\n",
      "Blood Pressure Monitor\n",
      "Blood Pressure Companion\n",
      "Free Blood Pressure\n",
      "Beautiful Widgets Pro\n",
      "Elmo Calls by Sesame Street\n",
      "420 BZ Budeze Delivery\n",
      "Brit + Co\n",
      "CT Scan Cross Sectional Anatomy\n",
      "Google Docs\n",
      "Any.do: To-do list, Calendar, Reminders & Planner\n",
      "Notepad & To do list\n",
      "Polaris Office - Word, Docs, Sheets, Slide, PDF\n",
      "Google Keep\n",
      "Do It Later: Tasks & To-Dos\n",
      "To-Do Calendar Planner\n",
      "Wunderlist: To-Do List & Tasks\n",
      "TickTick: To Do List with Reminder, Day Planner\n",
      "ColorNote Notepad Notes\n",
      "Airway Ex - Intubate. Anesthetize. Train.\n",
      "AAFP\n",
      "Length of the dduplicates:  483\n"
     ]
    }
   ],
   "source": [
    "for dup in duplicate_apps_android:\n",
    "    name = dup[0]\n",
    "    print(name)\n",
    "\n",
    "print(\"Length of the dduplicates: \", len(duplicate_apps_android))\n",
    "    "
   ]
  },
  {
   "cell_type": "code",
   "execution_count": 210,
   "metadata": {},
   "outputs": [
    {
     "name": "stdout",
     "output_type": "stream",
     "text": [
      "483\n"
     ]
    }
   ],
   "source": [
    "print(len(duplicate_apps_android))"
   ]
  },
  {
   "cell_type": "markdown",
   "metadata": {},
   "source": [
    "5 / 14 Removing Duplicate Entries: Part Two"
   ]
  },
  {
   "cell_type": "code",
   "execution_count": 211,
   "metadata": {},
   "outputs": [],
   "source": [
    "\n",
    "headers = android[0]\n",
    "\n",
    "del android[0]"
   ]
  },
  {
   "cell_type": "code",
   "execution_count": 212,
   "metadata": {},
   "outputs": [
    {
     "name": "stdout",
     "output_type": "stream",
     "text": [
      "9659\n"
     ]
    }
   ],
   "source": [
    "\n",
    "from collections import defaultdict \n",
    "\n",
    "map_apps = defaultdict(int)\n",
    "\n",
    "for app in android: \n",
    "    name = app[0]\n",
    "    reviews = float(app[3])\n",
    "    \n",
    "    if name in map_apps and map_apps[name] < reviews: \n",
    "        map_apps[name] = reviews\n",
    "    elif name not in map_apps:\n",
    "        map_apps[name] = reviews\n",
    "\n",
    "print(len(map_apps))"
   ]
  },
  {
   "cell_type": "code",
   "execution_count": 213,
   "metadata": {},
   "outputs": [],
   "source": [
    "android_clean = []\n",
    "already_added =[]\n",
    "\n",
    "for app in android: \n",
    "    name = app[0]\n",
    "    reviews = float(app[3])\n",
    "    reviews_max = map_apps[name]\n",
    "    if name not in already_added and reviews == reviews_max:\n",
    "        android_clean.append(app)\n",
    "        already_added.append(name)\n",
    "    "
   ]
  },
  {
   "cell_type": "code",
   "execution_count": 214,
   "metadata": {},
   "outputs": [
    {
     "name": "stdout",
     "output_type": "stream",
     "text": [
      "[['Photo Editor & Candy Camera & Grid & ScrapBook', 'ART_AND_DESIGN', '4.1', '159', '19M', '10,000+', 'Free', '0', 'Everyone', 'Art & Design', 'January 7, 2018', '1.0.0', '4.0.3 and up'], ['U Launcher Lite – FREE Live Cool Themes, Hide Apps', 'ART_AND_DESIGN', '4.7', '87510', '8.7M', '5,000,000+', 'Free', '0', 'Everyone', 'Art & Design', 'August 1, 2018', '1.2.4', '4.0.3 and up'], ['Sketch - Draw & Paint', 'ART_AND_DESIGN', '4.5', '215644', '25M', '50,000,000+', 'Free', '0', 'Teen', 'Art & Design', 'June 8, 2018', 'Varies with device', '4.2 and up'], ['Pixel Draw - Number Art Coloring Book', 'ART_AND_DESIGN', '4.3', '967', '2.8M', '100,000+', 'Free', '0', 'Everyone', 'Art & Design;Creativity', 'June 20, 2018', '1.1', '4.4 and up'], ['Paper flowers instructions', 'ART_AND_DESIGN', '4.4', '167', '5.6M', '50,000+', 'Free', '0', 'Everyone', 'Art & Design', 'March 26, 2017', '1.0', '2.3 and up'], ['Smoke Effect Photo Maker - Smoke Editor', 'ART_AND_DESIGN', '3.8', '178', '19M', '50,000+', 'Free', '0', 'Everyone', 'Art & Design', 'April 26, 2018', '1.1', '4.0.3 and up'], ['Infinite Painter', 'ART_AND_DESIGN', '4.1', '36815', '29M', '1,000,000+', 'Free', '0', 'Everyone', 'Art & Design', 'June 14, 2018', '6.1.61.1', '4.2 and up'], ['Garden Coloring Book', 'ART_AND_DESIGN', '4.4', '13791', '33M', '1,000,000+', 'Free', '0', 'Everyone', 'Art & Design', 'September 20, 2017', '2.9.2', '3.0 and up'], ['Kids Paint Free - Drawing Fun', 'ART_AND_DESIGN', '4.7', '121', '3.1M', '10,000+', 'Free', '0', 'Everyone', 'Art & Design;Creativity', 'July 3, 2018', '2.8', '4.0.3 and up'], ['Text on Photo - Fonteee', 'ART_AND_DESIGN', '4.4', '13880', '28M', '1,000,000+', 'Free', '0', 'Everyone', 'Art & Design', 'October 27, 2017', '1.0.4', '4.1 and up']]\n",
      "9659\n"
     ]
    }
   ],
   "source": [
    "print(android_clean[:10])\n",
    "print(len(android_clean))"
   ]
  },
  {
   "cell_type": "markdown",
   "metadata": {},
   "source": [
    "6 of 14 · Removing Non-English Apps: Part One"
   ]
  },
  {
   "cell_type": "code",
   "execution_count": 215,
   "metadata": {},
   "outputs": [],
   "source": [
    "def is_english(string: str):\n",
    "    for char in string:\n",
    "        if ord(char) > 127:\n",
    "            return False\n",
    "        else:\n",
    "            return True\n",
    "\n",
    "    "
   ]
  },
  {
   "cell_type": "code",
   "execution_count": 216,
   "metadata": {},
   "outputs": [
    {
     "data": {
      "text/plain": [
       "True"
      ]
     },
     "execution_count": 216,
     "metadata": {},
     "output_type": "execute_result"
    }
   ],
   "source": [
    "is_english('Docs To Go™ Free Office Suite')"
   ]
  },
  {
   "cell_type": "markdown",
   "metadata": {},
   "source": [
    "7 of 14 · Removing Non-English Apps: Part 2\n",
    "    "
   ]
  },
  {
   "cell_type": "code",
   "execution_count": 217,
   "metadata": {},
   "outputs": [],
   "source": [
    "def is_not_english(string: str):\n",
    "    counter = 0 \n",
    "    for char in string:\n",
    "        if ord(char) > 127:\n",
    "            counter = counter + 1\n",
    "\n",
    "    if counter < 3: \n",
    "        return False \n",
    "    else:\n",
    "        return True "
   ]
  },
  {
   "cell_type": "code",
   "execution_count": 218,
   "metadata": {},
   "outputs": [
    {
     "data": {
      "text/plain": [
       "True"
      ]
     },
     "execution_count": 218,
     "metadata": {},
     "output_type": "execute_result"
    }
   ],
   "source": [
    "is_not_english('爱奇艺PPS -《欢乐颂2》电视剧热播')"
   ]
  },
  {
   "cell_type": "code",
   "execution_count": 219,
   "metadata": {},
   "outputs": [],
   "source": [
    "for app in android_clean: \n",
    "    if is_not_english(app[0]):\n",
    "        android_clean.remove(app)\n",
    "    "
   ]
  },
  {
   "cell_type": "code",
   "execution_count": 220,
   "metadata": {},
   "outputs": [
    {
     "name": "stdout",
     "output_type": "stream",
     "text": [
      "['Photo Editor & Candy Camera & Grid & ScrapBook', 'ART_AND_DESIGN', '4.1', '159', '19M', '10,000+', 'Free', '0', 'Everyone', 'Art & Design', 'January 7, 2018', '1.0.0', '4.0.3 and up']\n",
      "\n",
      "\n",
      "['U Launcher Lite – FREE Live Cool Themes, Hide Apps', 'ART_AND_DESIGN', '4.7', '87510', '8.7M', '5,000,000+', 'Free', '0', 'Everyone', 'Art & Design', 'August 1, 2018', '1.2.4', '4.0.3 and up']\n",
      "\n",
      "\n",
      "['Sketch - Draw & Paint', 'ART_AND_DESIGN', '4.5', '215644', '25M', '50,000,000+', 'Free', '0', 'Teen', 'Art & Design', 'June 8, 2018', 'Varies with device', '4.2 and up']\n",
      "\n",
      "\n",
      "['Pixel Draw - Number Art Coloring Book', 'ART_AND_DESIGN', '4.3', '967', '2.8M', '100,000+', 'Free', '0', 'Everyone', 'Art & Design;Creativity', 'June 20, 2018', '1.1', '4.4 and up']\n",
      "\n",
      "\n",
      "['Paper flowers instructions', 'ART_AND_DESIGN', '4.4', '167', '5.6M', '50,000+', 'Free', '0', 'Everyone', 'Art & Design', 'March 26, 2017', '1.0', '2.3 and up']\n",
      "\n",
      "\n",
      "Number of rows: 9598\n",
      "Number of columns: 13\n"
     ]
    }
   ],
   "source": [
    "explore_data(android_clean, 0, 5, True)"
   ]
  },
  {
   "cell_type": "code",
   "execution_count": 221,
   "metadata": {},
   "outputs": [],
   "source": [
    "for app in ios: \n",
    "    if is_not_english(app[1]):\n",
    "        ios.remove(app)"
   ]
  },
  {
   "cell_type": "code",
   "execution_count": 222,
   "metadata": {},
   "outputs": [
    {
     "name": "stdout",
     "output_type": "stream",
     "text": [
      "['id', 'track_name', 'size_bytes', 'currency', 'price', 'rating_count_tot', 'rating_count_ver', 'user_rating', 'user_rating_ver', 'ver', 'cont_rating', 'prime_genre', 'sup_devices.num', 'ipadSc_urls.num', 'lang.num', 'vpp_lic']\n",
      "\n",
      "\n",
      "['284882215', 'Facebook', '389879808', 'USD', '0.0', '2974676', '212', '3.5', '3.5', '95.0', '4+', 'Social Networking', '37', '1', '29', '1']\n",
      "\n",
      "\n",
      "['389801252', 'Instagram', '113954816', 'USD', '0.0', '2161558', '1289', '4.5', '4.0', '10.23', '12+', 'Photo & Video', '37', '0', '29', '1']\n",
      "\n",
      "\n",
      "['529479190', 'Clash of Clans', '116476928', 'USD', '0.0', '2130805', '579', '4.5', '4.5', '9.24.12', '9+', 'Games', '38', '5', '18', '1']\n",
      "\n",
      "\n",
      "['420009108', 'Temple Run', '65921024', 'USD', '0.0', '1724546', '3842', '4.5', '4.0', '1.6.2', '9+', 'Games', '40', '5', '1', '1']\n",
      "\n",
      "\n",
      "Number of rows: 6488\n",
      "Number of columns: 16\n"
     ]
    }
   ],
   "source": [
    "explore_data(ios, 0, 5, True)"
   ]
  },
  {
   "cell_type": "markdown",
   "metadata": {},
   "source": [
    "8 of 14 · Isolating the Free Apps"
   ]
  },
  {
   "cell_type": "code",
   "execution_count": 223,
   "metadata": {},
   "outputs": [],
   "source": [
    "free_apps_android = []\n",
    "for app in android_clean: \n",
    "    price = app[7]\n",
    "    if price == '0': \n",
    "        free_apps_android.append(app)"
   ]
  },
  {
   "cell_type": "code",
   "execution_count": 224,
   "metadata": {},
   "outputs": [
    {
     "name": "stdout",
     "output_type": "stream",
     "text": [
      "['Photo Editor & Candy Camera & Grid & ScrapBook', 'ART_AND_DESIGN', '4.1', '159', '19M', '10,000+', 'Free', '0', 'Everyone', 'Art & Design', 'January 7, 2018', '1.0.0', '4.0.3 and up']\n",
      "\n",
      "\n",
      "['U Launcher Lite – FREE Live Cool Themes, Hide Apps', 'ART_AND_DESIGN', '4.7', '87510', '8.7M', '5,000,000+', 'Free', '0', 'Everyone', 'Art & Design', 'August 1, 2018', '1.2.4', '4.0.3 and up']\n",
      "\n",
      "\n",
      "['Sketch - Draw & Paint', 'ART_AND_DESIGN', '4.5', '215644', '25M', '50,000,000+', 'Free', '0', 'Teen', 'Art & Design', 'June 8, 2018', 'Varies with device', '4.2 and up']\n",
      "\n",
      "\n",
      "['Pixel Draw - Number Art Coloring Book', 'ART_AND_DESIGN', '4.3', '967', '2.8M', '100,000+', 'Free', '0', 'Everyone', 'Art & Design;Creativity', 'June 20, 2018', '1.1', '4.4 and up']\n",
      "\n",
      "\n",
      "['Paper flowers instructions', 'ART_AND_DESIGN', '4.4', '167', '5.6M', '50,000+', 'Free', '0', 'Everyone', 'Art & Design', 'March 26, 2017', '1.0', '2.3 and up']\n",
      "\n",
      "\n",
      "Number of rows: 8849\n",
      "Number of columns: 13\n"
     ]
    }
   ],
   "source": [
    "explore_data(free_apps_android, 0, 5, True)"
   ]
  },
  {
   "cell_type": "code",
   "execution_count": 225,
   "metadata": {},
   "outputs": [],
   "source": [
    "#remove ios header \n",
    "\n",
    "del ios[0]\n"
   ]
  },
  {
   "cell_type": "code",
   "execution_count": 226,
   "metadata": {},
   "outputs": [],
   "source": [
    "free_apps_ios = []\n",
    "for app in ios: \n",
    "    price = app[4]\n",
    "    if price == '0.0': \n",
    "        free_apps_ios.append(app)"
   ]
  },
  {
   "cell_type": "code",
   "execution_count": 227,
   "metadata": {},
   "outputs": [
    {
     "name": "stdout",
     "output_type": "stream",
     "text": [
      "['284882215', 'Facebook', '389879808', 'USD', '0.0', '2974676', '212', '3.5', '3.5', '95.0', '4+', 'Social Networking', '37', '1', '29', '1']\n",
      "\n",
      "\n",
      "['389801252', 'Instagram', '113954816', 'USD', '0.0', '2161558', '1289', '4.5', '4.0', '10.23', '12+', 'Photo & Video', '37', '0', '29', '1']\n",
      "\n",
      "\n",
      "['529479190', 'Clash of Clans', '116476928', 'USD', '0.0', '2130805', '579', '4.5', '4.5', '9.24.12', '9+', 'Games', '38', '5', '18', '1']\n",
      "\n",
      "\n",
      "['420009108', 'Temple Run', '65921024', 'USD', '0.0', '1724546', '3842', '4.5', '4.0', '1.6.2', '9+', 'Games', '40', '5', '1', '1']\n",
      "\n",
      "\n",
      "['284035177', 'Pandora - Music & Radio', '130242560', 'USD', '0.0', '1126879', '3594', '4.0', '4.5', '8.4.1', '12+', 'Music', '37', '4', '1', '1']\n",
      "\n",
      "\n",
      "Number of rows: 3464\n",
      "Number of columns: 16\n"
     ]
    }
   ],
   "source": [
    "explore_data(free_apps_ios, 0, 5, True)"
   ]
  },
  {
   "cell_type": "markdown",
   "metadata": {},
   "source": [
    "9 of 14 · Most Common Apps by Genre: Part One"
   ]
  },
  {
   "cell_type": "markdown",
   "metadata": {},
   "source": [
    "The end goal is to see what kind of apps are likely to be used by the people,\n",
    "thus, the revenue is influenced by the amount of users. \n",
    "\n",
    "Validation strategy: \n",
    "\n",
    "1.Build a minimal Android version of the app, and add it to Google Play. \n",
    "2.If the app has a good response from users, we develop it further.\n",
    "3.If the app is profitable after six months, we build an iOS version of the app and add it to the App Store.\n",
    "\n",
    "\n",
    "Possible columns that could generate frequency\n",
    "- for android : Genres and Categories\n",
    "- for ios: prime_genres\n"
   ]
  },
  {
   "cell_type": "markdown",
   "metadata": {},
   "source": [
    "10 of 14 · Most Common Apps by Genre: Part Two"
   ]
  },
  {
   "cell_type": "code",
   "execution_count": 228,
   "metadata": {},
   "outputs": [],
   "source": [
    "def freq_table(dataset, index):\n",
    "    res = defaultdict(int)\n",
    "    for list in dataset:\n",
    "        category = list[index]\n",
    "        if category in res: \n",
    "            res[category] +=1 \n",
    "        else:\n",
    "            res[category] = 1\n",
    "    sum  = len(dataset)\n",
    "    for key in res.keys():\n",
    "        res[key] = res[key] * 100 /sum\n",
    "        \n",
    "    return res"
   ]
  },
  {
   "cell_type": "code",
   "execution_count": 229,
   "metadata": {},
   "outputs": [],
   "source": [
    "def display_table(dataset, index):\n",
    "    table = freq_table(dataset, index)\n",
    "    table_display = []\n",
    "    for key in table:\n",
    "        key_val_as_tuple = (table[key], key)\n",
    "        table_display.append(key_val_as_tuple)\n",
    "\n",
    "    table_sorted = sorted(table_display, reverse = True)\n",
    "    for entry in table_sorted:\n",
    "        print(entry[1], ':', entry[0])"
   ]
  },
  {
   "cell_type": "code",
   "execution_count": 230,
   "metadata": {},
   "outputs": [
    {
     "name": "stdout",
     "output_type": "stream",
     "text": [
      "[['Photo Editor & Candy Camera & Grid & ScrapBook', 'ART_AND_DESIGN', '4.1', '159', '19M', '10,000+', 'Free', '0', 'Everyone', 'Art & Design', 'January 7, 2018', '1.0.0', '4.0.3 and up'], ['U Launcher Lite – FREE Live Cool Themes, Hide Apps', 'ART_AND_DESIGN', '4.7', '87510', '8.7M', '5,000,000+', 'Free', '0', 'Everyone', 'Art & Design', 'August 1, 2018', '1.2.4', '4.0.3 and up'], ['Sketch - Draw & Paint', 'ART_AND_DESIGN', '4.5', '215644', '25M', '50,000,000+', 'Free', '0', 'Teen', 'Art & Design', 'June 8, 2018', 'Varies with device', '4.2 and up'], ['Pixel Draw - Number Art Coloring Book', 'ART_AND_DESIGN', '4.3', '967', '2.8M', '100,000+', 'Free', '0', 'Everyone', 'Art & Design;Creativity', 'June 20, 2018', '1.1', '4.4 and up'], ['Paper flowers instructions', 'ART_AND_DESIGN', '4.4', '167', '5.6M', '50,000+', 'Free', '0', 'Everyone', 'Art & Design', 'March 26, 2017', '1.0', '2.3 and up'], ['Smoke Effect Photo Maker - Smoke Editor', 'ART_AND_DESIGN', '3.8', '178', '19M', '50,000+', 'Free', '0', 'Everyone', 'Art & Design', 'April 26, 2018', '1.1', '4.0.3 and up'], ['Infinite Painter', 'ART_AND_DESIGN', '4.1', '36815', '29M', '1,000,000+', 'Free', '0', 'Everyone', 'Art & Design', 'June 14, 2018', '6.1.61.1', '4.2 and up'], ['Garden Coloring Book', 'ART_AND_DESIGN', '4.4', '13791', '33M', '1,000,000+', 'Free', '0', 'Everyone', 'Art & Design', 'September 20, 2017', '2.9.2', '3.0 and up'], ['Kids Paint Free - Drawing Fun', 'ART_AND_DESIGN', '4.7', '121', '3.1M', '10,000+', 'Free', '0', 'Everyone', 'Art & Design;Creativity', 'July 3, 2018', '2.8', '4.0.3 and up'], ['Text on Photo - Fonteee', 'ART_AND_DESIGN', '4.4', '13880', '28M', '1,000,000+', 'Free', '0', 'Everyone', 'Art & Design', 'October 27, 2017', '1.0.4', '4.1 and up'], ['Name Art Photo Editor - Focus n Filters', 'ART_AND_DESIGN', '4.4', '8788', '12M', '1,000,000+', 'Free', '0', 'Everyone', 'Art & Design', 'July 31, 2018', '1.0.15', '4.0 and up'], ['Tattoo Name On My Photo Editor', 'ART_AND_DESIGN', '4.2', '44829', '20M', '10,000,000+', 'Free', '0', 'Teen', 'Art & Design', 'April 2, 2018', '3.8', '4.1 and up'], ['Mandala Coloring Book', 'ART_AND_DESIGN', '4.6', '4326', '21M', '100,000+', 'Free', '0', 'Everyone', 'Art & Design', 'June 26, 2018', '1.0.4', '4.4 and up'], ['3D Color Pixel by Number - Sandbox Art Coloring', 'ART_AND_DESIGN', '4.4', '1518', '37M', '100,000+', 'Free', '0', 'Everyone', 'Art & Design', 'August 3, 2018', '1.2.3', '2.3 and up'], ['Learn To Draw Kawaii Characters', 'ART_AND_DESIGN', '3.2', '55', '2.7M', '5,000+', 'Free', '0', 'Everyone', 'Art & Design', 'June 6, 2018', 'NaN', '4.2 and up'], ['Photo Designer - Write your name with shapes', 'ART_AND_DESIGN', '4.7', '3632', '5.5M', '500,000+', 'Free', '0', 'Everyone', 'Art & Design', 'July 31, 2018', '3.1', '4.1 and up'], ['350 Diy Room Decor Ideas', 'ART_AND_DESIGN', '4.5', '27', '17M', '10,000+', 'Free', '0', 'Everyone', 'Art & Design', 'November 7, 2017', '1.0', '2.3 and up'], ['FlipaClip - Cartoon animation', 'ART_AND_DESIGN', '4.3', '194216', '39M', '5,000,000+', 'Free', '0', 'Everyone', 'Art & Design', 'August 3, 2018', '2.2.5', '4.0.3 and up'], ['ibis Paint X', 'ART_AND_DESIGN', '4.6', '224399', '31M', '10,000,000+', 'Free', '0', 'Everyone', 'Art & Design', 'July 30, 2018', '5.5.4', '4.1 and up'], ['Logo Maker - Small Business', 'ART_AND_DESIGN', '4.0', '450', '14M', '100,000+', 'Free', '0', 'Everyone', 'Art & Design', 'April 20, 2018', '4.0', '4.1 and up']]\n"
     ]
    }
   ],
   "source": [
    "print(free_apps_android[:20])"
   ]
  },
  {
   "cell_type": "code",
   "execution_count": 231,
   "metadata": {},
   "outputs": [
    {
     "name": "stdout",
     "output_type": "stream",
     "text": [
      "FAMILY : 18.951293931517686\n",
      "GAME : 9.696010848683468\n",
      "TOOLS : 8.452932534749689\n",
      "BUSINESS : 4.599389761554978\n",
      "PRODUCTIVITY : 3.8987456209741214\n",
      "LIFESTYLE : 3.8874449090292686\n",
      "FINANCE : 3.7066335179116283\n",
      "MEDICAL : 3.5371228387388407\n",
      "SPORTS : 3.3902135834557576\n",
      "PERSONALIZATION : 3.3224093117866427\n",
      "COMMUNICATION : 3.2320036162278223\n",
      "HEALTH_AND_FITNESS : 3.0850943609447397\n",
      "PHOTOGRAPHY : 2.9494858176065093\n",
      "NEWS_AND_MAGAZINES : 2.8025765623234262\n",
      "SOCIAL : 2.666968018985196\n",
      "TRAVEL_AND_LOCAL : 2.339247372584473\n",
      "SHOPPING : 2.2488416770256525\n",
      "BOOKS_AND_REFERENCE : 2.135834557577127\n",
      "DATING : 1.8646174709006667\n",
      "VIDEO_PLAYERS : 1.7968131992315517\n",
      "MAPS_AND_NAVIGATION : 1.3899875692168606\n",
      "FOOD_AND_DRINK : 1.2430783139337778\n",
      "EDUCATION : 1.16397333031981\n",
      "ENTERTAINMENT : 0.9605605153124647\n",
      "LIBRARIES_AND_DEMO : 0.9379590914227597\n",
      "AUTO_AND_VEHICLES : 0.9266583794779071\n",
      "HOUSE_AND_HOME : 0.8023505480845293\n",
      "WEATHER : 0.7910498361396768\n",
      "EVENTS : 0.7119448525257092\n",
      "PARENTING : 0.6554412928014465\n",
      "ART_AND_DESIGN : 0.644140580856594\n",
      "COMICS : 0.6102384450220364\n",
      "BEAUTY : 0.5989377330771839\n"
     ]
    }
   ],
   "source": [
    " display_table(free_apps_android, 1)"
   ]
  },
  {
   "cell_type": "code",
   "execution_count": 232,
   "metadata": {},
   "outputs": [
    {
     "name": "stdout",
     "output_type": "stream",
     "text": [
      "Tools : 8.441631822804837\n",
      "Entertainment : 6.0797830263306585\n",
      "Education : 5.356537461860097\n",
      "Business : 4.599389761554978\n",
      "Productivity : 3.8987456209741214\n",
      "Lifestyle : 3.8761441970844164\n",
      "Finance : 3.7066335179116283\n",
      "Medical : 3.5371228387388407\n",
      "Sports : 3.458017855124873\n",
      "Personalization : 3.3224093117866427\n",
      "Communication : 3.2320036162278223\n",
      "Action : 3.096395072889592\n",
      "Health & Fitness : 3.0850943609447397\n",
      "Photography : 2.9494858176065093\n",
      "News & Magazines : 2.8025765623234262\n",
      "Social : 2.666968018985196\n",
      "Travel & Local : 2.32794666063962\n",
      "Shopping : 2.2488416770256525\n",
      "Books & Reference : 2.135834557577127\n",
      "Simulation : 2.0567295739631595\n",
      "Dating : 1.8646174709006667\n",
      "Arcade : 1.8420160470109617\n",
      "Video Players & Editors : 1.7742117753418465\n",
      "Casual : 1.762911063396994\n",
      "Maps & Navigation : 1.3899875692168606\n",
      "Food & Drink : 1.2430783139337778\n",
      "Puzzle : 1.1300711944852526\n",
      "Racing : 0.9944626511470223\n",
      "Role Playing : 0.9379590914227597\n",
      "Libraries & Demo : 0.9379590914227597\n",
      "Auto & Vehicles : 0.9266583794779071\n",
      "Strategy : 0.9153576675330546\n",
      "House & Home : 0.8023505480845293\n",
      "Weather : 0.7910498361396768\n",
      "Events : 0.7119448525257092\n",
      "Adventure : 0.666742004746299\n",
      "Comics : 0.5989377330771839\n",
      "Beauty : 0.5989377330771839\n",
      "Art & Design : 0.5989377330771839\n",
      "Parenting : 0.49723132557351113\n",
      "Card : 0.45202847779410105\n",
      "Trivia : 0.41812634195954346\n",
      "Casino : 0.41812634195954346\n",
      "Educational;Education : 0.3955249180698384\n",
      "Board : 0.38422420612498587\n",
      "Educational : 0.3729234941801334\n",
      "Education;Education : 0.3390213583455758\n",
      "Word : 0.2599163747316081\n",
      "Casual;Pretend Play : 0.23731495084190304\n",
      "Music : 0.20341281500734545\n",
      "Racing;Action & Adventure : 0.1695106791727879\n",
      "Puzzle;Brain Games : 0.1695106791727879\n",
      "Entertainment;Music & Video : 0.1695106791727879\n",
      "Casual;Brain Games : 0.1356085433382303\n",
      "Casual;Action & Adventure : 0.1356085433382303\n",
      "Arcade;Action & Adventure : 0.12430783139337778\n",
      "Action;Action & Adventure : 0.10170640750367273\n",
      "Educational;Pretend Play : 0.0904056955588202\n",
      "Simulation;Action & Adventure : 0.07910498361396769\n",
      "Parenting;Education : 0.07910498361396769\n",
      "Entertainment;Brain Games : 0.07910498361396769\n",
      "Board;Brain Games : 0.07910498361396769\n",
      "Parenting;Music & Video : 0.06780427166911515\n",
      "Educational;Brain Games : 0.06780427166911515\n",
      "Casual;Creativity : 0.06780427166911515\n",
      "Art & Design;Creativity : 0.06780427166911515\n",
      "Education;Pretend Play : 0.05650355972426263\n",
      "Role Playing;Pretend Play : 0.0452028477794101\n",
      "Education;Creativity : 0.0452028477794101\n",
      "Role Playing;Action & Adventure : 0.033902135834557576\n",
      "Puzzle;Action & Adventure : 0.033902135834557576\n",
      "Entertainment;Creativity : 0.033902135834557576\n",
      "Entertainment;Action & Adventure : 0.033902135834557576\n",
      "Educational;Creativity : 0.033902135834557576\n",
      "Educational;Action & Adventure : 0.033902135834557576\n",
      "Education;Music & Video : 0.033902135834557576\n",
      "Education;Brain Games : 0.033902135834557576\n",
      "Education;Action & Adventure : 0.033902135834557576\n",
      "Adventure;Action & Adventure : 0.033902135834557576\n",
      "Video Players & Editors;Music & Video : 0.02260142388970505\n",
      "Sports;Action & Adventure : 0.02260142388970505\n",
      "Simulation;Pretend Play : 0.02260142388970505\n",
      "Puzzle;Creativity : 0.02260142388970505\n",
      "Music;Music & Video : 0.02260142388970505\n",
      "Entertainment;Pretend Play : 0.02260142388970505\n",
      "Casual;Education : 0.02260142388970505\n",
      "Board;Action & Adventure : 0.02260142388970505\n",
      "Video Players & Editors;Creativity : 0.011300711944852526\n",
      "Trivia;Education : 0.011300711944852526\n",
      "Travel & Local;Action & Adventure : 0.011300711944852526\n",
      "Tools;Education : 0.011300711944852526\n",
      "Strategy;Education : 0.011300711944852526\n",
      "Strategy;Creativity : 0.011300711944852526\n",
      "Strategy;Action & Adventure : 0.011300711944852526\n",
      "Simulation;Education : 0.011300711944852526\n",
      "Role Playing;Brain Games : 0.011300711944852526\n",
      "Racing;Pretend Play : 0.011300711944852526\n",
      "Puzzle;Education : 0.011300711944852526\n",
      "Parenting;Brain Games : 0.011300711944852526\n",
      "Music & Audio;Music & Video : 0.011300711944852526\n",
      "Lifestyle;Pretend Play : 0.011300711944852526\n",
      "Lifestyle;Education : 0.011300711944852526\n",
      "Health & Fitness;Education : 0.011300711944852526\n",
      "Health & Fitness;Action & Adventure : 0.011300711944852526\n",
      "Entertainment;Education : 0.011300711944852526\n",
      "Communication;Creativity : 0.011300711944852526\n",
      "Comics;Creativity : 0.011300711944852526\n",
      "Casual;Music & Video : 0.011300711944852526\n",
      "Card;Action & Adventure : 0.011300711944852526\n",
      "Books & Reference;Education : 0.011300711944852526\n",
      "Art & Design;Pretend Play : 0.011300711944852526\n",
      "Art & Design;Action & Adventure : 0.011300711944852526\n",
      "Arcade;Pretend Play : 0.011300711944852526\n",
      "Adventure;Education : 0.011300711944852526\n"
     ]
    }
   ],
   "source": [
    " display_table(free_apps_android, 9)"
   ]
  },
  {
   "cell_type": "code",
   "execution_count": 233,
   "metadata": {},
   "outputs": [
    {
     "name": "stdout",
     "output_type": "stream",
     "text": [
      "Games : 58.02540415704388\n",
      "Entertainment : 7.79445727482679\n",
      "Photo & Video : 4.734411085450346\n",
      "Education : 3.464203233256351\n",
      "Social Networking : 3.2909930715935336\n",
      "Shopping : 2.6270207852193996\n",
      "Utilities : 2.3960739030023093\n",
      "Sports : 2.107390300230947\n",
      "Music : 1.905311778290993\n",
      "Health & Fitness : 1.8764434180138567\n",
      "Lifestyle : 1.8187066974595842\n",
      "Productivity : 1.6454965357967668\n",
      "Finance : 1.5011547344110854\n",
      "News : 1.327944572748268\n",
      "Travel : 1.1836027713625865\n",
      "Weather : 0.894919168591224\n",
      "Book : 0.8660508083140878\n",
      "Food & Drink : 0.8083140877598153\n",
      "Reference : 0.5484988452655889\n",
      "Business : 0.5196304849884527\n",
      "Navigation : 0.31755196304849886\n",
      "Medical : 0.20207852193995382\n",
      "Catalogs : 0.14434180138568128\n"
     ]
    }
   ],
   "source": [
    " display_table(free_apps_ios, 11)"
   ]
  },
  {
   "cell_type": "markdown",
   "metadata": {},
   "source": [
    "11 of 14 · Most Common Apps by Genre: Part Three"
   ]
  },
  {
   "cell_type": "markdown",
   "metadata": {},
   "source": [
    "Analysis of the prime_genre column of the App Store dataset\n",
    "\n",
    "Most common genre : Games (genre with the most amount of users)\n",
    "Next most common: Entertainment\n",
    "\n",
    "Conclusion: people prefer entertainment apps over practical apps \n",
    "\n",
    "\n",
    "\n",
    "Analysis of the Category and Genres column of the Google Play dataset.\n",
    "\n",
    "Most common genre : Tools (genre with the most amount of users)\n",
    "Next most genre :Entertainment\n",
    "\n",
    "Conclusion: people prefer practical apps over entertainment apps \n",
    "\n",
    "\n",
    "\n",
    "\n",
    "\n",
    "\n",
    "\n",
    "\n",
    "\n"
   ]
  },
  {
   "cell_type": "markdown",
   "metadata": {},
   "source": [
    "12 of 14 · Most Popular Apps by Genre on the App Store"
   ]
  },
  {
   "cell_type": "code",
   "execution_count": 234,
   "metadata": {},
   "outputs": [
    {
     "name": "stdout",
     "output_type": "stream",
     "text": [
      "['id', 'track_name', 'size_bytes', 'currency', 'price', 'rating_count_tot', 'rating_count_ver', 'user_rating', 'user_rating_ver', 'ver', 'cont_rating', 'prime_genre', 'sup_devices.num', 'ipadSc_urls.num', 'lang.num', 'vpp_lic']\n"
     ]
    }
   ],
   "source": [
    "print(ios_headers\n",
    "     )"
   ]
  },
  {
   "cell_type": "code",
   "execution_count": 237,
   "metadata": {},
   "outputs": [
    {
     "name": "stdout",
     "output_type": "stream",
     "text": [
      "Social Networking : 66527.41228070176\n",
      "Photo & Video : 27747.853658536584\n",
      "Games : 21246.859701492536\n",
      "Music : 57326.530303030304\n",
      "Reference : 70997.78947368421\n",
      "Health & Fitness : 23298.015384615384\n",
      "Weather : 47220.93548387097\n",
      "Utilities : 18237.0\n",
      "Travel : 27554.926829268294\n",
      "Shopping : 24849.076923076922\n",
      "News : 19870.608695652172\n",
      "Navigation : 46958.36363636364\n",
      "Lifestyle : 13354.714285714286\n",
      "Entertainment : 13204.159259259259\n",
      "Food & Drink : 30953.178571428572\n",
      "Sports : 21748.13698630137\n",
      "Book : 18554.033333333333\n",
      "Finance : 21790.5\n",
      "Education : 6887.25\n",
      "Productivity : 20659.491228070176\n",
      "Business : 7074.944444444444\n",
      "Catalogs : 3203.2\n",
      "Medical : 524.5714285714286\n"
     ]
    }
   ],
   "source": [
    "rating = {}\n",
    "\n",
    "table = freq_table(free_apps_ios, 11)\n",
    "\n",
    "for genre in table: \n",
    "    total = 0\n",
    "    len_genre  = 0 \n",
    "    for app in free_apps_ios: \n",
    "        genre_app = app[11]\n",
    "        if genre_app == genre: \n",
    "            total += float(app[5])\n",
    "            len_genre += 1\n",
    "    avg = (total / len_genre)\n",
    "    rating[genre] = avg\n",
    "    \n",
    "    print(genre, \":\", avg)"
   ]
  },
  {
   "cell_type": "markdown",
   "metadata": {},
   "source": [
    "highest rating : Social Networking apps\n",
    "lowest rating : Medical apps \n"
   ]
  },
  {
   "cell_type": "markdown",
   "metadata": {},
   "source": [
    "13 of 14 · Most Popular Apps by Genre on Google Play"
   ]
  },
  {
   "cell_type": "code",
   "execution_count": 238,
   "metadata": {},
   "outputs": [
    {
     "name": "stdout",
     "output_type": "stream",
     "text": [
      "['App', 'Category', 'Rating', 'Reviews', 'Size', 'Installs', 'Type', 'Price', 'Content Rating', 'Genres', 'Last Updated', 'Current Ver', 'Android Ver']\n"
     ]
    }
   ],
   "source": [
    "print(android_headers\n",
    "     )"
   ]
  },
  {
   "cell_type": "code",
   "execution_count": 243,
   "metadata": {},
   "outputs": [
    {
     "name": "stdout",
     "output_type": "stream",
     "text": [
      "{'ART_AND_DESIGN': 1986335.0877192982, 'AUTO_AND_VEHICLES': 647317.8170731707, 'BEAUTY': 513151.88679245283, 'BOOKS_AND_REFERENCE': 8814199.78835979, 'BUSINESS': 1712290.1474201474, 'COMICS': 832613.8888888889, 'COMMUNICATION': 38590581.08741259, 'DATING': 854028.8303030303, 'EDUCATION': 1833495.145631068, 'ENTERTAINMENT': 11640705.88235294, 'EVENTS': 253542.22222222222, 'FINANCE': 1387692.475609756, 'FOOD_AND_DRINK': 1924897.7363636363, 'HEALTH_AND_FITNESS': 4188821.9853479853, 'HOUSE_AND_HOME': 1360598.042253521, 'LIBRARIES_AND_DEMO': 638503.734939759, 'LIFESTYLE': 1446158.2238372094, 'GAME': 15544014.51048951, 'FAMILY': 3693497.7280858676, 'MEDICAL': 120550.61980830671, 'SOCIAL': 23253652.127118643, 'SHOPPING': 7036877.311557789, 'PHOTOGRAPHY': 17840110.40229885, 'SPORTS': 3650602.276666667, 'TRAVEL_AND_LOCAL': 13984077.710144928, 'TOOLS': 10830251.970588235, 'PERSONALIZATION': 5201482.6122448975, 'PRODUCTIVITY': 16787331.344927534, 'PARENTING': 542603.6206896552, 'WEATHER': 5145550.285714285, 'VIDEO_PLAYERS': 24727872.452830188, 'NEWS_AND_MAGAZINES': 9549178.467741935, 'MAPS_AND_NAVIGATION': 4049274.6341463416}\n"
     ]
    }
   ],
   "source": [
    "installs = {}\n",
    "table_android = freq_table(free_apps_android, 1)\n",
    "\n",
    "for category in table_android: \n",
    "    total = 0 \n",
    "    len_category = 0\n",
    "    for app in free_apps_android: \n",
    "        category_app = app[1]\n",
    "        if category_app == category:\n",
    "            no_of_installs = app[5]\n",
    "            no_of_installs = no_of_installs.replace('+','')\n",
    "            no_of_installs = no_of_installs.replace(',','')\n",
    "            no_of_installs = float(no_of_installs)\n",
    "            total += no_of_installs\n",
    "            len_category += 1\n",
    "    avg = (total / len_category)\n",
    "    installs[category] = avg \n",
    "print(installs)\n",
    "        "
   ]
  },
  {
   "cell_type": "code",
   "execution_count": 244,
   "metadata": {},
   "outputs": [],
   "source": [
    "def find_maximum_value():\n",
    "    max = 0 \n",
    "    for value in installs.values():\n",
    "        if value > max: \n",
    "            max = value\n",
    "    return max"
   ]
  },
  {
   "cell_type": "code",
   "execution_count": 247,
   "metadata": {},
   "outputs": [
    {
     "name": "stdout",
     "output_type": "stream",
     "text": [
      "COMMUNICATION\n"
     ]
    }
   ],
   "source": [
    "max = find_maximum_value()\n",
    "for key in installs.keys():\n",
    "    if installs[key] == max:\n",
    "        print(key)"
   ]
  },
  {
   "cell_type": "markdown",
   "metadata": {},
   "source": [
    "Conclusion: COMMUNICATION is the most downloaded genre from the Android Google Play Store"
   ]
  },
  {
   "cell_type": "code",
   "execution_count": null,
   "metadata": {},
   "outputs": [],
   "source": []
  }
 ],
 "metadata": {
  "kernelspec": {
   "display_name": "Python 3",
   "language": "python",
   "name": "python3"
  },
  "language_info": {
   "codemirror_mode": {
    "name": "ipython",
    "version": 3
   },
   "file_extension": ".py",
   "mimetype": "text/x-python",
   "name": "python",
   "nbconvert_exporter": "python",
   "pygments_lexer": "ipython3",
   "version": "3.8.2"
  }
 },
 "nbformat": 4,
 "nbformat_minor": 2
}
